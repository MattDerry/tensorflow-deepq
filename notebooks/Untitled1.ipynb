{
 "cells": [
  {
   "cell_type": "code",
   "execution_count": 1,
   "metadata": {},
   "outputs": [],
   "source": [
    "%load_ext autoreload\n",
    "%autoreload 2\n",
    "\n",
    "import math\n",
    "import numpy as np\n",
    "import tensorflow as tf\n",
    "from tensorflow.python.framework import dtypes\n",
    "from tensorflow.python.framework import function\n",
    "from tensorflow.python.framework import ops\n",
    "from tensorflow.python.framework import test_util\n",
    "from tensorflow.python.ops import gradients"
   ]
  },
  {
   "cell_type": "code",
   "execution_count": 2,
   "metadata": {},
   "outputs": [],
   "source": [
    "graph = tf.Graph()"
   ]
  },
  {
   "cell_type": "code",
   "execution_count": 3,
   "metadata": {},
   "outputs": [],
   "source": [
    "sess = tf.InteractiveSession(graph=graph)"
   ]
  },
  {
   "cell_type": "code",
   "execution_count": 4,
   "metadata": {},
   "outputs": [],
   "source": [
    "class Test(object):\n",
    "  def __init__(self, session):\n",
    "    self.sess = session\n",
    "    self.w_g  = tf.Variable([0.5], name=\"w_g\")\n",
    "    self.b_g  = tf.Variable([1.0], name=\"b_g\")\n",
    "    self.w1_f = tf.constant([1.0])\n",
    "    self.w2_f = tf.constant([2.0])\n",
    "    self.b_f  = tf.constant([1.0])\n",
    "    self.n    = tf.constant([3.0])\n",
    "    self.lr   = tf.constant([0.01])\n",
    "    self.__name__ = \"Test\"\n",
    "    \n",
    "  @classmethod\n",
    "  def policy(cls, x, w_g, b_g):\n",
    "    return w_g * x * x + b_g\n",
    "\n",
    "  @classmethod\n",
    "  def value(cls, x, y, w1_f, w2_f, b_f):\n",
    "    return w1_f * x + w2_f * y + b_f\n",
    "\n",
    "  def weights_update(self):\n",
    "    return [self.w_g.assign_add(self.lr * self.grads_p[0]), self.b_g.assign_add(self.lr * self.grads_p[1])]\n",
    "\n",
    "  def testGrads(self):\n",
    "    g = function.Defun(x=tf.float32, w_g=tf.float32, b_g=tf.float32)(self.policy)\n",
    "    f = function.Defun(x=tf.float32, y=tf.float32, w1_f=tf.float32, w2_f=tf.float32, b_f=tf.float32)(self.value)\n",
    "    x = tf.constant([2.0, 3.0, 1.0], name=\"x\")\n",
    "    y = g(x, tf.convert_to_tensor(self.w_g), tf.convert_to_tensor(self.b_g))\n",
    "    v = f(x, y, self.w1_f, self.w2_f, self.b_f)\n",
    "\n",
    "    # Build gradient graph (should add SymbolicGradient node for function).\n",
    "    grads_v = gradients.gradients(v, [x, y])\n",
    "    action_v_grad = grads_v[1]\n",
    "    self.grads_p = gradients.gradients(y, [self.w_g, self.b_g], grad_ys=action_v_grad)\n",
    "    for i, pg in enumerate(self.grads_p):\n",
    "            self.grads_p[i] = pg / self.n\n",
    "            \n",
    "    update = self.weights_update()            \n",
    "    \n",
    "    print self.sess.run(v)\n",
    "    print '---------------'\n",
    "    print self.sess.run(grads_v)\n",
    "    print '---------------'\n",
    "    print self.sess.run(self.grads_p)\n",
    "    print '---------------'\n",
    "    print self.sess.run(update)\n",
    "    print '---------------'\n",
    "    print self.sess.run(v)\n",
    "    \n",
    "    # print self.sess.run(grads_weighted)[0]\n",
    "    # print self.sess.run(grads_weighted)[1]"
   ]
  },
  {
   "cell_type": "code",
   "execution_count": 5,
   "metadata": {},
   "outputs": [
    {
     "name": "stdout",
     "output_type": "stream",
     "text": [
      "[  9.  15.   5.]\n",
      "---------------\n",
      "[array([ 5.,  7.,  3.], dtype=float32), array([ 2.,  2.,  2.], dtype=float32)]\n",
      "---------------\n",
      "[array([ 9.33333302], dtype=float32), array([ 2.], dtype=float32)]\n",
      "---------------\n",
      "[array([ 0.5933333], dtype=float32), array([ 1.01999998], dtype=float32)]\n",
      "---------------\n",
      "[  9.78666687  16.72000122   5.22666645]\n",
      "xxxxxxxxxxxxxxxxxxxxx\n",
      "[  9.78666687  16.72000122   5.22666645]\n",
      "---------------\n",
      "[array([ 5.74666643,  8.11999989,  3.37333322], dtype=float32), array([ 2.,  2.,  2.], dtype=float32)]\n",
      "---------------\n",
      "[array([ 9.33333302], dtype=float32), array([ 2.], dtype=float32)]\n",
      "---------------\n",
      "[array([ 0.68666661], dtype=float32), array([ 1.03999996], dtype=float32)]\n",
      "---------------\n",
      "[ 10.57333279  18.43999863   5.4533329 ]\n",
      "xxxxxxxxxxxxxxxxxxxxx\n",
      "[ 10.57333279  18.43999863   5.4533329 ]\n",
      "---------------\n",
      "[array([ 6.49333286,  9.23999977,  3.74666643], dtype=float32), array([ 2.,  2.,  2.], dtype=float32)]\n",
      "---------------\n",
      "[array([ 9.33333302], dtype=float32), array([ 2.], dtype=float32)]\n",
      "---------------\n",
      "[array([ 0.77999991], dtype=float32), array([ 1.05999994], dtype=float32)]\n",
      "---------------\n",
      "[ 11.3599987   20.15999794   5.67999983]\n",
      "xxxxxxxxxxxxxxxxxxxxx\n",
      "[ 11.3599987   20.15999794   5.67999983]\n",
      "---------------\n",
      "[array([  7.23999929,  10.3599987 ,   4.11999989], dtype=float32), array([ 2.,  2.,  2.], dtype=float32)]\n",
      "---------------\n",
      "[array([ 9.33333302], dtype=float32), array([ 2.], dtype=float32)]\n",
      "---------------\n",
      "[array([ 0.87333322], dtype=float32), array([ 1.07999992], dtype=float32)]\n",
      "---------------\n",
      "[ 12.14666557  21.87999725   5.90666628]\n",
      "xxxxxxxxxxxxxxxxxxxxx\n",
      "[ 12.14666557  21.87999725   5.90666628]\n",
      "---------------\n",
      "[array([  7.98666573,  11.47999859,   4.49333286], dtype=float32), array([ 2.,  2.,  2.], dtype=float32)]\n",
      "---------------\n",
      "[array([ 9.33333302], dtype=float32), array([ 2.], dtype=float32)]\n",
      "---------------\n",
      "[array([ 0.96666652], dtype=float32), array([ 1.0999999], dtype=float32)]\n",
      "---------------\n",
      "[ 12.93333244  23.59999847   6.13333273]\n",
      "xxxxxxxxxxxxxxxxxxxxx\n",
      "[ 12.93333244  23.59999847   6.13333273]\n",
      "---------------\n",
      "[array([  8.73333168,  12.59999847,   4.86666584], dtype=float32), array([ 2.,  2.,  2.], dtype=float32)]\n",
      "---------------\n",
      "[array([ 9.33333302], dtype=float32), array([ 2.], dtype=float32)]\n",
      "---------------\n",
      "[array([ 1.05999982], dtype=float32), array([ 1.11999989], dtype=float32)]\n",
      "---------------\n",
      "[ 13.71999836  25.31999588   6.35999966]\n"
     ]
    }
   ],
   "source": [
    "with graph.as_default():\n",
    "  t = Test(sess)\n",
    "  sess.run(tf.initialize_all_variables())\n",
    "  t.testGrads()\n",
    "  print 'xxxxxxxxxxxxxxxxxxxxx'\n",
    "  t.testGrads()\n",
    "  print 'xxxxxxxxxxxxxxxxxxxxx'\n",
    "  t.testGrads()\n",
    "  print 'xxxxxxxxxxxxxxxxxxxxx'\n",
    "  t.testGrads()\n",
    "  print 'xxxxxxxxxxxxxxxxxxxxx'\n",
    "  t.testGrads()\n",
    "  print 'xxxxxxxxxxxxxxxxxxxxx'\n",
    "  t.testGrads()"
   ]
  },
  {
   "cell_type": "code",
   "execution_count": null,
   "metadata": {},
   "outputs": [],
   "source": [
    "sess.close()"
   ]
  }
 ],
 "metadata": {
  "kernelspec": {
   "display_name": "Python 2",
   "language": "python",
   "name": "python2"
  },
  "language_info": {
   "codemirror_mode": {
    "name": "ipython",
    "version": 2.0
   },
   "file_extension": ".py",
   "mimetype": "text/x-python",
   "name": "python",
   "nbconvert_exporter": "python",
   "pygments_lexer": "ipython2",
   "version": "2.7.6"
  }
 },
 "nbformat": 4,
 "nbformat_minor": 0
}