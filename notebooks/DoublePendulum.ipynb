{
 "cells": [
  {
   "cell_type": "code",
   "execution_count": 1,
   "metadata": {
    "collapsed": false
   },
   "outputs": [
    {
     "name": "stderr",
     "output_type": "stream",
     "text": [
      "Using TensorFlow backend.\n"
     ]
    }
   ],
   "source": [
    "%load_ext autoreload\n",
    "%autoreload 2\n",
    "\n",
    "import math\n",
    "import random\n",
    "import tempfile\n",
    "import tensorflow as tf\n",
    "import time\n",
    "\n",
    "import numpy as np\n",
    "\n",
    "from collections import defaultdict\n",
    "\n",
    "from tf_rl.controller import KerasDDPG\n",
    "from tf_rl.models     import KERASMLP\n",
    "from tf_rl.simulation import DoublePendulum\n",
    "from tf_rl            import simulate\n",
    "\n",
    "from keras import backend as K\n",
    "\n",
    "DOUBLE_PENDULUM_PARAMS = {\n",
    "    'g_ms2': 9.8, # acceleration due to gravity, in m/s^2\n",
    "    'l1_m': 1.0, # length of pendulum 1 in m\n",
    "    'l2_m': 2.0, # length of pendulum 2 in m\n",
    "    'm1_kg': 1.0, # mass of pendulum 1 in kg\n",
    "    'm2_kg': 1.0, # mass of pendulum 2 in kg\n",
    "    'damping': 0.4,\n",
    "    'max_control_input': 20.0\n",
    "}"
   ]
  },
  {
   "cell_type": "code",
   "execution_count": 2,
   "metadata": {
    "collapsed": false
   },
   "outputs": [],
   "source": [
    "actor = KERASMLP(DoublePendulum.observation_size, [300, 300, 1], ['relu', 'relu', 'tanh'])\n",
    "critic = KERASMLP(DoublePendulum.observation_size+DoublePendulum.action_size,[303,300,1],['relu','relu','linear'])"
   ]
  },
  {
   "cell_type": "code",
   "execution_count": 3,
   "metadata": {
    "collapsed": false
   },
   "outputs": [],
   "source": [
    "current_controller = KerasDDPG(DoublePendulum.observation_size, \n",
    "                               DoublePendulum.action_size, actor, critic, discount_rate=0.99, \n",
    "                               exploration_period=10000)"
   ]
  },
  {
   "cell_type": "code",
   "execution_count": 6,
   "metadata": {
    "collapsed": false
   },
   "outputs": [
    {
     "data": {
      "text/html": [
       "<?xml version=\"1.0\"?>\n",
       "\n",
       "<svg height=\"460\" width=\"420\" >\n",
       "\n",
       " <g style=\"fill-opacity:1.0; stroke:black;\n",
       "\n",
       "  stroke-width:1;\">\n",
       "\n",
       "  <rect x=\"10\" y=\"10\" height=\"300\"\n",
       "\n",
       "        width=\"400\" style=\"fill:none;\" />\n",
       "\n",
       "  <line x1=\"200\" y1=\"150\" x2=\"207\" y2=\"189\" />\n",
       "\n",
       "  <line x1=\"207\" y1=\"189\" x2=\"280\" y2=\"157\" />\n",
       "\n",
       "  <circle cx=\"200\" cy=\"150\" r=\"5\"\n",
       "\n",
       "          style=\"fill:red;\" />\n",
       "\n",
       "  <circle cx=\"207\" cy=\"189\" r=\"3\"\n",
       "\n",
       "          style=\"fill:blue;\" />\n",
       "\n",
       "  <circle cx=\"280\" cy=\"157\" r=\"3\"\n",
       "\n",
       "          style=\"fill:green;\" />\n",
       "\n",
       "  <text x=\"10\" y=\"335\" font-size=\"15\">\n",
       "\n",
       "   fps = 2.7\n",
       "\n",
       "  </text>\n",
       "\n",
       "  <text x=\"10\" y=\"355\" font-size=\"15\">\n",
       "\n",
       "   Reward = -0.7\n",
       "\n",
       "  </text>\n",
       "\n",
       "  <text x=\"10\" y=\"375\" font-size=\"15\">\n",
       "\n",
       "   Joint 1 Angle = 0.2\n",
       "\n",
       "  </text>\n",
       "\n",
       "  <text x=\"10\" y=\"395\" font-size=\"15\">\n",
       "\n",
       "   Joint 1 Velo  = -3.0\n",
       "\n",
       "  </text>\n",
       "\n",
       "  <text x=\"10\" y=\"415\" font-size=\"15\">\n",
       "\n",
       "   Joint 2 Angle = 2.0\n",
       "\n",
       "  </text>\n",
       "\n",
       "  <text x=\"10\" y=\"435\" font-size=\"15\">\n",
       "\n",
       "   Joint 2 Velo  = -3.1\n",
       "\n",
       "  </text>\n",
       "\n",
       "  <text x=\"10\" y=\"455\" font-size=\"15\">\n",
       "\n",
       "   Control Input = -8.3\n",
       "\n",
       "  </text>\n",
       "\n",
       " </g>\n",
       "</svg>\n"
      ],
      "text/plain": [
       "<tf_rl.utils.svg.Scene instance at 0x7fdb04f315a8>"
      ]
     },
     "metadata": {},
     "output_type": "display_data"
    },
    {
     "name": "stdout",
     "output_type": "stream",
     "text": [
      "Starting training step 2925 at 2016-02-19 22:26:06\n",
      "Critic model fitting took 0.013196 seconds\n",
      "Policy gradient and update calcs took 0.012726 seconds\n",
      "Target network updates took 0.005895 seconds\n",
      "--------------------------------------\n",
      "Total time spent in training iterations was 0.088947 seconds\n",
      "Interrupted\n"
     ]
    }
   ],
   "source": [
    "fast_mode = False\n",
    "\n",
    "if fast_mode:\n",
    "    FPS, SPEED, RES = 5, 20.0, 0.03\n",
    "else:\n",
    "    FPS, SPEED, RES = 30, 1., 0.03\n",
    "\n",
    "try:\n",
    "    while True:\n",
    "        d = DoublePendulum(DOUBLE_PENDULUM_PARAMS)\n",
    "        simulate(d, current_controller, fps=FPS,\n",
    "                 simulation_resolution=RES,\n",
    "                 action_every=3,\n",
    "                 disable_training=False)\n",
    "except KeyboardInterrupt:\n",
    "    print(\"Interrupted\")"
   ]
  },
  {
   "cell_type": "code",
   "execution_count": null,
   "metadata": {
    "collapsed": true
   },
   "outputs": [],
   "source": [
    "sess = tf.InteractiveSession()"
   ]
  },
  {
   "cell_type": "code",
   "execution_count": null,
   "metadata": {
    "collapsed": false
   },
   "outputs": [],
   "source": [
    "c_grad = [K.gradients(K.sum(critic.model.get_output(train=False)), critic.model.get_input(train=False))[0]]"
   ]
  },
  {
   "cell_type": "code",
   "execution_count": null,
   "metadata": {
    "collapsed": true
   },
   "outputs": [],
   "source": [
    "s1,s2,s3,s4,act_grad = tf.split(1,5,c_grad[0])"
   ]
  },
  {
   "cell_type": "code",
   "execution_count": null,
   "metadata": {
    "collapsed": false
   },
   "outputs": [],
   "source": [
    "minibatch_size=32"
   ]
  },
  {
   "cell_type": "code",
   "execution_count": null,
   "metadata": {
    "collapsed": true
   },
   "outputs": [],
   "source": [
    "minibatch = K.variable(minibatch_size)"
   ]
  },
  {
   "cell_type": "code",
   "execution_count": null,
   "metadata": {
    "collapsed": false
   },
   "outputs": [],
   "source": [
    "actor.model.trainable_weights"
   ]
  },
  {
   "cell_type": "code",
   "execution_count": null,
   "metadata": {
    "collapsed": false
   },
   "outputs": [],
   "source": [
    "a_grad_1 = [(K.gradients(K.sum(actor.model.get_output(train=False),axis=1), z)[0] for z in actor.model.trainable_weights)]"
   ]
  },
  {
   "cell_type": "code",
   "execution_count": null,
   "metadata": {
    "collapsed": false
   },
   "outputs": [],
   "source": [
    "a_grad_1_2 = [a_grad_1 / minibatch]"
   ]
  },
  {
   "cell_type": "code",
   "execution_count": null,
   "metadata": {
    "collapsed": false
   },
   "outputs": [],
   "source": [
    "simple_test = [K.sum(actor.model.get_output(train=False),axis=1)]"
   ]
  },
  {
   "cell_type": "code",
   "execution_count": null,
   "metadata": {
    "collapsed": false
   },
   "outputs": [],
   "source": [
    "simp_test_func = K.function(inputs=[actor.model.get_input(train=False)], outputs=simple_test)"
   ]
  },
  {
   "cell_type": "code",
   "execution_count": null,
   "metadata": {
    "collapsed": false
   },
   "outputs": [],
   "source": [
    "simp_test_func([test_input_a])"
   ]
  },
  {
   "cell_type": "code",
   "execution_count": null,
   "metadata": {
    "collapsed": false
   },
   "outputs": [],
   "source": [
    "a_grad_2 = [K.gradients(K.sum(actor.model.get_output(train=False)), actor.model.trainable_weights)[0]]"
   ]
  },
  {
   "cell_type": "code",
   "execution_count": null,
   "metadata": {
    "collapsed": true
   },
   "outputs": [],
   "source": [
    "test_update_1 = K.function(inputs=[critic.model.get_input(train=False),actor.model.get_input(train=False)], outputs=a_grad_1)"
   ]
  },
  {
   "cell_type": "code",
   "execution_count": null,
   "metadata": {
    "collapsed": true
   },
   "outputs": [],
   "source": [
    "test_update_2 = K.function(inputs=[critic.model.get_input(train=False),actor.model.get_input(train=False)], outputs=a_grad_2)"
   ]
  },
  {
   "cell_type": "code",
   "execution_count": null,
   "metadata": {
    "collapsed": false
   },
   "outputs": [],
   "source": [
    "test_input_c = np.random.rand(32,5)"
   ]
  },
  {
   "cell_type": "code",
   "execution_count": null,
   "metadata": {
    "collapsed": false
   },
   "outputs": [],
   "source": [
    "test_input_a = np.random.rand(32,4)"
   ]
  },
  {
   "cell_type": "code",
   "execution_count": null,
   "metadata": {
    "collapsed": false
   },
   "outputs": [],
   "source": [
    "p_grad_1 = test_update_1([test_input_c, test_input_a])"
   ]
  },
  {
   "cell_type": "code",
   "execution_count": null,
   "metadata": {
    "collapsed": true
   },
   "outputs": [],
   "source": [
    "p_grad_2 = test_update_2([test_input_c, test_input_a])"
   ]
  },
  {
   "cell_type": "code",
   "execution_count": null,
   "metadata": {
    "collapsed": false
   },
   "outputs": [],
   "source": [
    "p_grad_1"
   ]
  },
  {
   "cell_type": "code",
   "execution_count": null,
   "metadata": {
    "collapsed": false
   },
   "outputs": [],
   "source": [
    "p_grad_2"
   ]
  },
  {
   "cell_type": "code",
   "execution_count": null,
   "metadata": {
    "collapsed": false
   },
   "outputs": [],
   "source": [
    "current_controller.plot_critic_value_function()"
   ]
  },
  {
   "cell_type": "code",
   "execution_count": null,
   "metadata": {
    "collapsed": false
   },
   "outputs": [],
   "source": [
    "current_controller.plot_actor_policy()"
   ]
  },
  {
   "cell_type": "code",
   "execution_count": null,
   "metadata": {
    "collapsed": false
   },
   "outputs": [],
   "source": [
    "current_controller.plot_critic_value_function()"
   ]
  },
  {
   "cell_type": "code",
   "execution_count": null,
   "metadata": {
    "collapsed": true
   },
   "outputs": [],
   "source": [
    "current_controller.plot_actor_policy()"
   ]
  },
  {
   "cell_type": "code",
   "execution_count": null,
   "metadata": {
    "collapsed": false
   },
   "outputs": [],
   "source": [
    "current_controller.bellman_error[-10:]"
   ]
  },
  {
   "cell_type": "code",
   "execution_count": null,
   "metadata": {
    "collapsed": false
   },
   "outputs": [],
   "source": [
    "print len(current_controller.experience)"
   ]
  },
  {
   "cell_type": "code",
   "execution_count": null,
   "metadata": {
    "collapsed": false
   },
   "outputs": [
    {
     "data": {
      "text/html": [
       "<?xml version=\"1.0\"?>\n",
       "\n",
       "<svg height=\"460\" width=\"420\" >\n",
       "\n",
       " <g style=\"fill-opacity:1.0; stroke:black;\n",
       "\n",
       "  stroke-width:1;\">\n",
       "\n",
       "  <rect x=\"10\" y=\"10\" height=\"300\"\n",
       "\n",
       "        width=\"400\" style=\"fill:none;\" />\n",
       "\n",
       "  <line x1=\"200\" y1=\"150\" x2=\"228\" y2=\"122\" />\n",
       "\n",
       "  <line x1=\"228\" y1=\"122\" x2=\"217\" y2=\"201\" />\n",
       "\n",
       "  <circle cx=\"200\" cy=\"150\" r=\"5\"\n",
       "\n",
       "          style=\"fill:red;\" />\n",
       "\n",
       "  <circle cx=\"228\" cy=\"122\" r=\"3\"\n",
       "\n",
       "          style=\"fill:blue;\" />\n",
       "\n",
       "  <circle cx=\"217\" cy=\"201\" r=\"3\"\n",
       "\n",
       "          style=\"fill:green;\" />\n",
       "\n",
       "  <text x=\"10\" y=\"335\" font-size=\"15\">\n",
       "\n",
       "   fps = 31.1\n",
       "\n",
       "  </text>\n",
       "\n",
       "  <text x=\"10\" y=\"355\" font-size=\"15\">\n",
       "\n",
       "   Reward = -0.8\n",
       "\n",
       "  </text>\n",
       "\n",
       "  <text x=\"10\" y=\"375\" font-size=\"15\">\n",
       "\n",
       "   Joint 1 Angle = 2.3\n",
       "\n",
       "  </text>\n",
       "\n",
       "  <text x=\"10\" y=\"395\" font-size=\"15\">\n",
       "\n",
       "   Joint 1 Velo  = -8.5\n",
       "\n",
       "  </text>\n",
       "\n",
       "  <text x=\"10\" y=\"415\" font-size=\"15\">\n",
       "\n",
       "   Joint 2 Angle = -0.1\n",
       "\n",
       "  </text>\n",
       "\n",
       "  <text x=\"10\" y=\"435\" font-size=\"15\">\n",
       "\n",
       "   Joint 2 Velo  = -6.4\n",
       "\n",
       "  </text>\n",
       "\n",
       "  <text x=\"10\" y=\"455\" font-size=\"15\">\n",
       "\n",
       "   Control Input = -9.1\n",
       "\n",
       "  </text>\n",
       "\n",
       " </g>\n",
       "</svg>\n"
      ],
      "text/plain": [
       "<tf_rl.utils.svg.Scene instance at 0x7fdb091b77a0>"
      ]
     },
     "metadata": {},
     "output_type": "display_data"
    }
   ],
   "source": [
    "DOUBLE_PENDULUM_PARAMS = {\n",
    "    'g_ms2': 9.8, # acceleration due to gravity, in m/s^2\n",
    "    'l1_m': 1.0, # length of pendulum 1 in m\n",
    "    'l2_m': 2.0, # length of pendulum 2 in m\n",
    "    'm1_kg': 1.0, # mass of pendulum 1 in kg\n",
    "    'm2_kg': 1.0, # mass of pendulum 2 in kg\n",
    "    'damping': 0.4,\n",
    "    'max_control_input': 20.0\n",
    "}\n",
    "d = DoublePendulum(DOUBLE_PENDULUM_PARAMS)\n",
    "try:\n",
    "    while True:\n",
    "        simulate(d, current_controller, fps=FPS, simulation_resolution=RES, wait=True, action_every=3, disable_training=True)\n",
    "except KeyboardInterrupt:\n",
    "    print(\"Interrupted\")"
   ]
  },
  {
   "cell_type": "code",
   "execution_count": null,
   "metadata": {
    "collapsed": false
   },
   "outputs": [],
   "source": [
    "from pympler import tracker"
   ]
  },
  {
   "cell_type": "code",
   "execution_count": null,
   "metadata": {
    "collapsed": true
   },
   "outputs": [],
   "source": [
    "mem_tracker = tracker.SummaryTracker()"
   ]
  },
  {
   "cell_type": "code",
   "execution_count": null,
   "metadata": {
    "collapsed": false
   },
   "outputs": [],
   "source": [
    "mem_tracker.print_diff()"
   ]
  },
  {
   "cell_type": "code",
   "execution_count": null,
   "metadata": {
    "collapsed": true
   },
   "outputs": [],
   "source": []
  }
 ],
 "metadata": {
  "kernelspec": {
   "display_name": "Python 2",
   "language": "python",
   "name": "python2"
  },
  "language_info": {
   "codemirror_mode": {
    "name": "ipython",
    "version": 2
   },
   "file_extension": ".py",
   "mimetype": "text/x-python",
   "name": "python",
   "nbconvert_exporter": "python",
   "pygments_lexer": "ipython2",
   "version": "2.7.6"
  }
 },
 "nbformat": 4,
 "nbformat_minor": 0
}
