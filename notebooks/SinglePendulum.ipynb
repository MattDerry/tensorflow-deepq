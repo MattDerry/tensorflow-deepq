{
 "cells": [
  {
   "cell_type": "code",
   "execution_count": 1,
   "metadata": {
    "collapsed": false
   },
   "outputs": [
    {
     "name": "stderr",
     "output_type": "stream",
     "text": [
      "Using TensorFlow backend.\n"
     ]
    },
    {
     "ename": "ImportError",
     "evalue": "cannot import name SinglePendulum",
     "output_type": "error",
     "traceback": [
      "\u001b[1;31m---------------------------------------------------------------------------\u001b[0m",
      "\u001b[1;31mImportError\u001b[0m                               Traceback (most recent call last)",
      "\u001b[1;32m<ipython-input-1-c288f20d7107>\u001b[0m in \u001b[0;36m<module>\u001b[1;34m()\u001b[0m\n\u001b[0;32m     14\u001b[0m \u001b[1;32mfrom\u001b[0m \u001b[0mtf_rl\u001b[0m\u001b[1;33m.\u001b[0m\u001b[0mcontroller\u001b[0m \u001b[1;32mimport\u001b[0m \u001b[0mKerasDDPG\u001b[0m\u001b[1;33m\u001b[0m\u001b[0m\n\u001b[0;32m     15\u001b[0m \u001b[1;32mfrom\u001b[0m \u001b[0mtf_rl\u001b[0m\u001b[1;33m.\u001b[0m\u001b[0mmodels\u001b[0m     \u001b[1;32mimport\u001b[0m \u001b[0mDDPGPolicyMLP\u001b[0m\u001b[1;33m,\u001b[0m \u001b[0mDDPGValueMLP\u001b[0m\u001b[1;33m\u001b[0m\u001b[0m\n\u001b[1;32m---> 16\u001b[1;33m \u001b[1;32mfrom\u001b[0m \u001b[0mtf_rl\u001b[0m\u001b[1;33m.\u001b[0m\u001b[0msimulation\u001b[0m \u001b[1;32mimport\u001b[0m \u001b[0mSinglePendulum\u001b[0m\u001b[1;33m\u001b[0m\u001b[0m\n\u001b[0m\u001b[0;32m     17\u001b[0m \u001b[1;32mfrom\u001b[0m \u001b[0mtf_rl\u001b[0m            \u001b[1;32mimport\u001b[0m \u001b[0msimulate\u001b[0m\u001b[1;33m\u001b[0m\u001b[0m\n\u001b[0;32m     18\u001b[0m \u001b[1;33m\u001b[0m\u001b[0m\n",
      "\u001b[1;31mImportError\u001b[0m: cannot import name SinglePendulum"
     ]
    }
   ],
   "source": [
    "%load_ext autoreload\n",
    "%autoreload 2\n",
    "\n",
    "import math\n",
    "import random\n",
    "import tempfile\n",
    "import tensorflow as tf\n",
    "import time\n",
    "\n",
    "import numpy as np\n",
    "\n",
    "from collections import defaultdict\n",
    "\n",
    "from tf_rl.controller import KerasDDPG\n",
    "from tf_rl.models     import DDPGPolicyMLP, DDPGValueMLP\n",
    "from tf_rl.simulation import SinglePendulum\n",
    "from tf_rl            import simulate\n",
    "\n",
    "from keras import backend as K\n",
    "\n",
    "SINGLE_PENDULUM_PARAMS = {\n",
    "    'g_ms2': 9.8, # acceleration due to gravity, in m/s^2\n",
    "    'l1_m': 1.0, # length of pendulum 1 in m\n",
    "    'm1_kg': 1.0, # mass of pendulum 1 in kg\n",
    "    'damping': 0.2,\n",
    "    'max_control_input': 6.0\n",
    "}"
   ]
  },
  {
   "cell_type": "markdown",
   "metadata": {},
   "source": [
    "## Load New Model"
   ]
  },
  {
   "cell_type": "code",
   "execution_count": null,
   "metadata": {
    "collapsed": true
   },
   "outputs": [],
   "source": [
    "actor = PolicyMLP(SinglePendulum.observation_size, [200, 200, 1], ['relu', 'relu', 'tanh'])\n",
    "critic = ValueMLP(SinglePendulum.observation_size,SinglePendulum.action_size,[200, 200, 1],['relu', 'relu', 'linear'], regularizer=True)"
   ]
  },
  {
   "cell_type": "code",
   "execution_count": null,
   "metadata": {
    "collapsed": true
   },
   "outputs": [],
   "source": [
    "current_controller = KerasDDPG(SinglePendulum.observation_size, \n",
    "                               SinglePendulum.action_size, actor, critic, discount_rate=0.99, \n",
    "                               exploration_period=4000)"
   ]
  },
  {
   "cell_type": "markdown",
   "metadata": {
    "collapsed": true
   },
   "source": [
    "## Train Model"
   ]
  },
  {
   "cell_type": "code",
   "execution_count": null,
   "metadata": {
    "collapsed": false
   },
   "outputs": [],
   "source": [
    "fast_mode = False\n",
    "\n",
    "if fast_mode:\n",
    "    FPS, SPEED, RES = 5, 20.0, 0.03\n",
    "else:\n",
    "    FPS, SPEED, RES = 60, 1., 0.01\n",
    "\n",
    "try:\n",
    "    while True:\n",
    "        d = SinglePendulum(SINGLE_PENDULUM_PARAMS)\n",
    "        simulate(d, current_controller, fps=FPS,\n",
    "                 simulation_resolution=RES,\n",
    "                 action_every=3,\n",
    "                 disable_training=False,\n",
    "                 reset_every=300,\n",
    "                 visualize=True)\n",
    "except KeyboardInterrupt:\n",
    "    print(\"Interrupted\")"
   ]
  },
  {
   "cell_type": "markdown",
   "metadata": {},
   "source": [
    "## Load Model Checkpoint and Evaluate with No Training or Exploration"
   ]
  },
  {
   "cell_type": "code",
   "execution_count": null,
   "metadata": {
    "collapsed": true
   },
   "outputs": [],
   "source": [
    "current_controller.restore_checkpoint('/home/mderry/local_data/rl_logs/pendulum_checkpoint_500001')"
   ]
  },
  {
   "cell_type": "code",
   "execution_count": null,
   "metadata": {
    "collapsed": false
   },
   "outputs": [],
   "source": [
    "fast_mode = False\n",
    "\n",
    "if fast_mode:\n",
    "    FPS, SPEED, RES = 5, 20.0, 0.03\n",
    "else:\n",
    "    FPS, SPEED, RES = 60, 1., 0.0001\n",
    "\n",
    "SINGLE_PENDULUM_PARAMS = {\n",
    "    'g_ms2': 9.8, # acceleration due to gravity, in m/s^2\n",
    "    'l1_m': 1.0, # length of pendulum 1 in m\n",
    "    'm1_kg': 1.0, # mass of pendulum 1 in kg\n",
    "    'damping': 0.2,\n",
    "    'max_control_input': 6.0\n",
    "}\n",
    "d = SinglePendulum(SINGLE_PENDULUM_PARAMS)\n",
    "try:\n",
    "    while True:\n",
    "        simulate(d, current_controller, fps=FPS, simulation_resolution=RES, wait=False, action_every=3, disable_training=True, ignore_exploration=True)\n",
    "except KeyboardInterrupt:\n",
    "    print(\"Interrupted\")"
   ]
  },
  {
   "cell_type": "code",
   "execution_count": null,
   "metadata": {
    "collapsed": true
   },
   "outputs": [],
   "source": []
  }
 ],
 "metadata": {
  "kernelspec": {
   "display_name": "Python 2",
   "language": "python",
   "name": "python2"
  },
  "language_info": {
   "codemirror_mode": {
    "name": "ipython",
    "version": 2
   },
   "file_extension": ".py",
   "mimetype": "text/x-python",
   "name": "python",
   "nbconvert_exporter": "python",
   "pygments_lexer": "ipython2",
   "version": "2.7.6"
  }
 },
 "nbformat": 4,
 "nbformat_minor": 0
}
