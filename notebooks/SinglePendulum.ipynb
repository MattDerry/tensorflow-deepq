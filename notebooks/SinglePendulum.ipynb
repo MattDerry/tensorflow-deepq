{
 "cells": [
  {
   "cell_type": "code",
   "execution_count": 1,
   "metadata": {
    "collapsed": false
   },
   "outputs": [
    {
     "name": "stderr",
     "output_type": "stream",
     "text": [
      "Using TensorFlow backend.\n"
     ]
    }
   ],
   "source": [
    "%load_ext autoreload\n",
    "%autoreload 2\n",
    "\n",
    "import math\n",
    "import random\n",
    "import tempfile\n",
    "import tensorflow as tf\n",
    "import time\n",
    "\n",
    "import numpy as np\n",
    "\n",
    "from collections import defaultdict\n",
    "\n",
    "from tf_rl.controller import KerasDDPG\n",
    "from tf_rl.models     import PolicyMLP, ValueMLP\n",
    "from tf_rl.simulation import SinglePendulum\n",
    "from tf_rl            import simulate\n",
    "\n",
    "from keras import backend as K\n",
    "\n",
    "SINGLE_PENDULUM_PARAMS = {\n",
    "    'g_ms2': 9.8, # acceleration due to gravity, in m/s^2\n",
    "    'l1_m': 1.0, # length of pendulum 1 in m\n",
    "    'm1_kg': 1.0, # mass of pendulum 1 in kg\n",
    "    'damping': 0.2,\n",
    "    'max_control_input': 4.0\n",
    "}"
   ]
  },
  {
   "cell_type": "markdown",
   "metadata": {},
   "source": []
  },
  {
   "cell_type": "code",
   "execution_count": 2,
   "metadata": {
    "collapsed": false
   },
   "outputs": [],
   "source": [
    "actor = PolicyMLP(SinglePendulum.observation_size, [200, 200, 1], ['relu', 'relu', 'tanh'])\n",
    "critic = ValueMLP(SinglePendulum.observation_size,SinglePendulum.action_size,[200, 200, 1],['relu', 'relu', 'linear'], regularizer=True)"
   ]
  },
  {
   "cell_type": "code",
   "execution_count": null,
   "metadata": {
    "collapsed": false
   },
   "outputs": [],
   "source": [
    "for i, w in enumerate(critic.model.get_weights()):\n",
    "    print 'Layer %d: %d' % (i, len(w))\n",
    "    \n",
    "len(critic.model.nodes)"
   ]
  },
  {
   "cell_type": "code",
   "execution_count": 3,
   "metadata": {
    "collapsed": false
   },
   "outputs": [],
   "source": [
    "current_controller = KerasDDPG(SinglePendulum.observation_size, \n",
    "                               SinglePendulum.action_size, actor, critic, discount_rate=0.99, \n",
    "                               exploration_period=30000)"
   ]
  },
  {
   "cell_type": "code",
   "execution_count": null,
   "metadata": {
    "collapsed": false
   },
   "outputs": [
    {
     "data": {
      "text/html": [
       "<?xml version=\"1.0\"?>\n",
       "\n",
       "<svg height=\"420\" width=\"420\" >\n",
       "\n",
       " <g style=\"fill-opacity:1.0; stroke:black;\n",
       "\n",
       "  stroke-width:1;\">\n",
       "\n",
       "  <rect x=\"10\" y=\"10\" height=\"300\"\n",
       "\n",
       "        width=\"400\" style=\"fill:none;\" />\n",
       "\n",
       "  <line x1=\"200\" y1=\"150\" x2=\"168\" y2=\"265\" />\n",
       "\n",
       "  <circle cx=\"200\" cy=\"150\" r=\"5\"\n",
       "\n",
       "          style=\"fill:red;\" />\n",
       "\n",
       "  <circle cx=\"168\" cy=\"265\" r=\"3\"\n",
       "\n",
       "          style=\"fill:blue;\" />\n",
       "\n",
       "  <text x=\"10\" y=\"335\" font-size=\"15\">\n",
       "\n",
       "   fps = 4.8\n",
       "\n",
       "  </text>\n",
       "\n",
       "  <text x=\"10\" y=\"355\" font-size=\"15\">\n",
       "\n",
       "   Reward = 2.5\n",
       "\n",
       "  </text>\n",
       "\n",
       "  <text x=\"10\" y=\"375\" font-size=\"15\">\n",
       "\n",
       "   Joint 1 Angle = -2.9\n",
       "\n",
       "  </text>\n",
       "\n",
       "  <text x=\"10\" y=\"395\" font-size=\"15\">\n",
       "\n",
       "   Joint 1 Velo  = 4.5\n",
       "\n",
       "  </text>\n",
       "\n",
       "  <text x=\"10\" y=\"415\" font-size=\"15\">\n",
       "\n",
       "   Control Input = 3.3\n",
       "\n",
       "  </text>\n",
       "\n",
       " </g>\n",
       "</svg>\n"
      ],
      "text/plain": [
       "<tf_rl.utils.svg.Scene instance at 0x7fac4239f6c8>"
      ]
     },
     "metadata": {},
     "output_type": "display_data"
    }
   ],
   "source": [
    "fast_mode = False\n",
    "\n",
    "if fast_mode:\n",
    "    FPS, SPEED, RES = 5, 20.0, 0.03\n",
    "else:\n",
    "    FPS, SPEED, RES = 30, 1., 0.01\n",
    "\n",
    "try:\n",
    "    while True:\n",
    "        d = SinglePendulum(SINGLE_PENDULUM_PARAMS)\n",
    "        simulate(d, current_controller, fps=FPS,\n",
    "                 simulation_resolution=RES,\n",
    "                 action_every=4,\n",
    "                 disable_training=False,\n",
    "                 reset_every=3000,\n",
    "                 visualize=True)\n",
    "except KeyboardInterrupt:\n",
    "    print(\"Interrupted\")"
   ]
  },
  {
   "cell_type": "code",
   "execution_count": null,
   "metadata": {
    "collapsed": true
   },
   "outputs": [],
   "source": []
  },
  {
   "cell_type": "code",
   "execution_count": null,
   "metadata": {
    "collapsed": false
   },
   "outputs": [],
   "source": [
    "c_grad = K.gradients(critic.model.get_output(train=False)['value_output'], critic.model.get_input(train=False)['action'])[0]"
   ]
  },
  {
   "cell_type": "code",
   "execution_count": null,
   "metadata": {
    "collapsed": true
   },
   "outputs": [],
   "source": [
    "s1,s2,s3,s4,act_grad = tf.split(1,5,c_grad[0])"
   ]
  },
  {
   "cell_type": "code",
   "execution_count": null,
   "metadata": {
    "collapsed": true
   },
   "outputs": [],
   "source": [
    "minibatch_size=32"
   ]
  },
  {
   "cell_type": "code",
   "execution_count": null,
   "metadata": {
    "collapsed": true
   },
   "outputs": [],
   "source": [
    "minibatch = K.variable(minibatch_size)"
   ]
  },
  {
   "cell_type": "code",
   "execution_count": null,
   "metadata": {
    "collapsed": true
   },
   "outputs": [],
   "source": [
    "actor.model.trainable_weights"
   ]
  },
  {
   "cell_type": "code",
   "execution_count": null,
   "metadata": {
    "collapsed": true
   },
   "outputs": [],
   "source": [
    "a_grad_1 = [(K.gradients(K.sum(actor.model.get_output(train=False),axis=1), z)[0] for z in actor.model.trainable_weights)]"
   ]
  },
  {
   "cell_type": "code",
   "execution_count": null,
   "metadata": {
    "collapsed": true
   },
   "outputs": [],
   "source": [
    "a_grad_1_2 = [a_grad_1 / minibatch]"
   ]
  },
  {
   "cell_type": "code",
   "execution_count": null,
   "metadata": {
    "collapsed": true
   },
   "outputs": [],
   "source": [
    "simple_test = [K.sum(actor.model.get_output(train=False),axis=1)]"
   ]
  },
  {
   "cell_type": "code",
   "execution_count": null,
   "metadata": {
    "collapsed": true
   },
   "outputs": [],
   "source": [
    "simp_test_func = K.function(inputs=[actor.model.get_input(train=False)], outputs=simple_test)"
   ]
  },
  {
   "cell_type": "code",
   "execution_count": null,
   "metadata": {
    "collapsed": true
   },
   "outputs": [],
   "source": [
    "simp_test_func([test_input_a])"
   ]
  },
  {
   "cell_type": "code",
   "execution_count": null,
   "metadata": {
    "collapsed": true
   },
   "outputs": [],
   "source": [
    "a_grad_2 = [K.gradients(K.sum(actor.model.get_output(train=False)), actor.model.trainable_weights)[0]]"
   ]
  },
  {
   "cell_type": "code",
   "execution_count": null,
   "metadata": {
    "collapsed": true
   },
   "outputs": [],
   "source": [
    "test_update_1 = K.function(inputs=[critic.model.get_input(train=False),actor.model.get_input(train=False)], outputs=a_grad_1)"
   ]
  },
  {
   "cell_type": "code",
   "execution_count": null,
   "metadata": {
    "collapsed": true
   },
   "outputs": [],
   "source": [
    "test_update_2 = K.function(inputs=[critic.model.get_input(train=False),actor.model.get_input(train=False)], outputs=a_grad_2)"
   ]
  },
  {
   "cell_type": "code",
   "execution_count": null,
   "metadata": {
    "collapsed": true
   },
   "outputs": [],
   "source": [
    "test_input_cs = np.random.rand(32,2)"
   ]
  },
  {
   "cell_type": "code",
   "execution_count": null,
   "metadata": {
    "collapsed": true
   },
   "outputs": [],
   "source": [
    "test_input_ca = np.random.rand(32,1)"
   ]
  },
  {
   "cell_type": "code",
   "execution_count": null,
   "metadata": {
    "collapsed": false
   },
   "outputs": [],
   "source": [
    "test_cgrad = K.function(inputs=[critic.model.get_input(train=False)['state'], critic.model.get_input(train=False)['action']], outputs=[c_grad])"
   ]
  },
  {
   "cell_type": "code",
   "execution_count": null,
   "metadata": {
    "collapsed": true
   },
   "outputs": [],
   "source": [
    "test_input_a = np.random.rand(32,4)"
   ]
  },
  {
   "cell_type": "code",
   "execution_count": null,
   "metadata": {
    "collapsed": false
   },
   "outputs": [],
   "source": [
    "c_grad_1 = test_cgrad([test_input_cs, test_input_ca])"
   ]
  },
  {
   "cell_type": "code",
   "execution_count": null,
   "metadata": {
    "collapsed": false
   },
   "outputs": [],
   "source": [
    "c_grad_1"
   ]
  },
  {
   "cell_type": "code",
   "execution_count": null,
   "metadata": {
    "collapsed": true
   },
   "outputs": [],
   "source": [
    "p_grad_1"
   ]
  },
  {
   "cell_type": "code",
   "execution_count": null,
   "metadata": {
    "collapsed": true
   },
   "outputs": [],
   "source": [
    "p_grad_2"
   ]
  },
  {
   "cell_type": "code",
   "execution_count": null,
   "metadata": {
    "collapsed": true
   },
   "outputs": [],
   "source": [
    "current_controller.plot_critic_value_function()"
   ]
  },
  {
   "cell_type": "code",
   "execution_count": null,
   "metadata": {
    "collapsed": true
   },
   "outputs": [],
   "source": [
    "current_controller.plot_actor_policy()"
   ]
  },
  {
   "cell_type": "code",
   "execution_count": null,
   "metadata": {
    "collapsed": true
   },
   "outputs": [],
   "source": [
    "current_controller.plot_critic_value_function()"
   ]
  },
  {
   "cell_type": "code",
   "execution_count": null,
   "metadata": {
    "collapsed": true
   },
   "outputs": [],
   "source": [
    "current_controller.plot_actor_policy()"
   ]
  },
  {
   "cell_type": "code",
   "execution_count": null,
   "metadata": {
    "collapsed": true
   },
   "outputs": [],
   "source": [
    "current_controller.bellman_error[-10:]"
   ]
  },
  {
   "cell_type": "code",
   "execution_count": null,
   "metadata": {
    "collapsed": true
   },
   "outputs": [],
   "source": [
    "print len(current_controller.experience)"
   ]
  },
  {
   "cell_type": "code",
   "execution_count": null,
   "metadata": {
    "collapsed": false
   },
   "outputs": [],
   "source": [
    "current_controller.restore_checkpoint('/home/mderry/tensorflow-deepq/notebooks/logs/pendulum_checkpoint_16601')"
   ]
  },
  {
   "cell_type": "code",
   "execution_count": 7,
   "metadata": {
    "collapsed": false
   },
   "outputs": [
    {
     "name": "stdout",
     "output_type": "stream",
     "text": [
      "Interrupted\n"
     ]
    }
   ],
   "source": [
    "fast_mode = False\n",
    "\n",
    "if fast_mode:\n",
    "    FPS, SPEED, RES = 5, 20.0, 0.03\n",
    "else:\n",
    "    FPS, SPEED, RES = 30, 1., 0.01\n",
    "\n",
    "SINGLE_PENDULUM_PARAMS = {\n",
    "    'g_ms2': 9.8, # acceleration due to gravity, in m/s^2\n",
    "    'l1_m': 1.0, # length of pendulum 1 in m\n",
    "    'm1_kg': 1.0, # mass of pendulum 1 in kg\n",
    "    'damping': 0.2,\n",
    "    'max_control_input': 4.0\n",
    "}\n",
    "d = SinglePendulum(SINGLE_PENDULUM_PARAMS)\n",
    "try:\n",
    "    while True:\n",
    "        simulate(d, current_controller, fps=FPS, simulation_resolution=RES, wait=False, action_every=4, disable_training=True, ignore_exploration=True)\n",
    "except KeyboardInterrupt:\n",
    "    print(\"Interrupted\")"
   ]
  },
  {
   "cell_type": "code",
   "execution_count": null,
   "metadata": {
    "collapsed": true
   },
   "outputs": [],
   "source": [
    "from pympler import tracker"
   ]
  },
  {
   "cell_type": "code",
   "execution_count": null,
   "metadata": {
    "collapsed": true
   },
   "outputs": [],
   "source": [
    "mem_tracker = tracker.SummaryTracker()"
   ]
  },
  {
   "cell_type": "code",
   "execution_count": null,
   "metadata": {
    "collapsed": true
   },
   "outputs": [],
   "source": [
    "mem_tracker.print_diff()"
   ]
  },
  {
   "cell_type": "code",
   "execution_count": null,
   "metadata": {
    "collapsed": true
   },
   "outputs": [],
   "source": []
  }
 ],
 "metadata": {
  "kernelspec": {
   "display_name": "Python 2",
   "language": "python",
   "name": "python2"
  },
  "language_info": {
   "codemirror_mode": {
    "name": "ipython",
    "version": 2
   },
   "file_extension": ".py",
   "mimetype": "text/x-python",
   "name": "python",
   "nbconvert_exporter": "python",
   "pygments_lexer": "ipython2",
   "version": "2.7.6"
  }
 },
 "nbformat": 4,
 "nbformat_minor": 0
}
